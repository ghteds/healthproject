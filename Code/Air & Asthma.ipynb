{
 "cells": [
  {
   "cell_type": "code",
   "execution_count": 1,
   "metadata": {},
   "outputs": [],
   "source": [
    "#Imports\n",
    "import pandas as pd\n",
    "import requests\n",
    "import numpy as np\n",
    "from matplotlib import pyplot as plt\n",
    "from scipy import stats\n",
    "from census import Census\n",
    "from config import (censuskey, googmapskey)\n",
    "import gmaps\n",
    "import requests\n",
    "import time\n",
    "from us import states\n"
   ]
  },
  {
   "cell_type": "markdown",
   "metadata": {},
   "source": [
    "## Developing the DataFrame(s)"
   ]
  },
  {
   "cell_type": "code",
   "execution_count": 2,
   "metadata": {},
   "outputs": [
    {
     "data": {
      "text/html": [
       "<div>\n",
       "<style scoped>\n",
       "    .dataframe tbody tr th:only-of-type {\n",
       "        vertical-align: middle;\n",
       "    }\n",
       "\n",
       "    .dataframe tbody tr th {\n",
       "        vertical-align: top;\n",
       "    }\n",
       "\n",
       "    .dataframe thead th {\n",
       "        text-align: right;\n",
       "    }\n",
       "</style>\n",
       "<table border=\"1\" class=\"dataframe\">\n",
       "  <thead>\n",
       "    <tr style=\"text-align: right;\">\n",
       "      <th></th>\n",
       "      <th>2010</th>\n",
       "      <th>2011</th>\n",
       "      <th>2012</th>\n",
       "      <th>2013</th>\n",
       "      <th>2014</th>\n",
       "      <th>2015</th>\n",
       "      <th>2016</th>\n",
       "      <th>2017</th>\n",
       "    </tr>\n",
       "    <tr>\n",
       "      <th>County</th>\n",
       "      <th></th>\n",
       "      <th></th>\n",
       "      <th></th>\n",
       "      <th></th>\n",
       "      <th></th>\n",
       "      <th></th>\n",
       "      <th></th>\n",
       "      <th></th>\n",
       "    </tr>\n",
       "  </thead>\n",
       "  <tbody>\n",
       "    <tr>\n",
       "      <th>Appling</th>\n",
       "      <td>58</td>\n",
       "      <td>59</td>\n",
       "      <td>74</td>\n",
       "      <td>78</td>\n",
       "      <td>68</td>\n",
       "      <td>53</td>\n",
       "      <td>71</td>\n",
       "      <td>61</td>\n",
       "    </tr>\n",
       "    <tr>\n",
       "      <th>Atkinson</th>\n",
       "      <td>37</td>\n",
       "      <td>16</td>\n",
       "      <td>45</td>\n",
       "      <td>42</td>\n",
       "      <td>60</td>\n",
       "      <td>32</td>\n",
       "      <td>29</td>\n",
       "      <td>28</td>\n",
       "    </tr>\n",
       "    <tr>\n",
       "      <th>Bacon</th>\n",
       "      <td>53</td>\n",
       "      <td>40</td>\n",
       "      <td>65</td>\n",
       "      <td>51</td>\n",
       "      <td>50</td>\n",
       "      <td>45</td>\n",
       "      <td>34</td>\n",
       "      <td>40</td>\n",
       "    </tr>\n",
       "    <tr>\n",
       "      <th>Baker</th>\n",
       "      <td>22</td>\n",
       "      <td>13</td>\n",
       "      <td>13</td>\n",
       "      <td>26</td>\n",
       "      <td>25</td>\n",
       "      <td>33</td>\n",
       "      <td>26</td>\n",
       "      <td>24</td>\n",
       "    </tr>\n",
       "    <tr>\n",
       "      <th>Baldwin</th>\n",
       "      <td>255</td>\n",
       "      <td>264</td>\n",
       "      <td>406</td>\n",
       "      <td>321</td>\n",
       "      <td>300</td>\n",
       "      <td>259</td>\n",
       "      <td>323</td>\n",
       "      <td>251</td>\n",
       "    </tr>\n",
       "  </tbody>\n",
       "</table>\n",
       "</div>"
      ],
      "text/plain": [
       "         2010 2011 2012 2013 2014 2015 2016 2017\n",
       "County                                          \n",
       "Appling    58   59   74   78   68   53   71   61\n",
       "Atkinson   37   16   45   42   60   32   29   28\n",
       "Bacon      53   40   65   51   50   45   34   40\n",
       "Baker      22   13   13   26   25   33   26   24\n",
       "Baldwin   255  264  406  321  300  259  323  251"
      ]
     },
     "execution_count": 2,
     "metadata": {},
     "output_type": "execute_result"
    }
   ],
   "source": [
    "#Set CSV file locations.  May need modification if data moved to other folder.\n",
    "aqi_csvlocation = '../Datasets/aqi.csv'\n",
    "asthma_csvlocation = '../Datasets/asthmaER.csv'\n",
    "population_csvlocation = '../Datasets/PEP_2017_PEPANNRES_with_ann.csv'\n",
    "\n",
    "#Read the CSV's into dataframes\n",
    "aqidf = pd.read_csv(aqi_csvlocation)\n",
    "asthmadf = pd.read_csv(asthma_csvlocation)\n",
    "populationdf = pd.read_csv(population_csvlocation)\n",
    "\n",
    "#Pull out only the aqi data about Georgia\n",
    "gaaqidf = aqidf.loc[aqidf['State']=='Georgia']\n",
    "\n",
    "#Set indices as counties for convenience\n",
    "popdf = populationdf.set_index('GEO.display-label')\n",
    "asthmadf = asthmadf.set_index('County')\n",
    "\n",
    "#Pull out a list of the counties that we are actually pursuing\n",
    "countylist = gaaqidf['County'].unique()\n",
    "asthmadf.head()\n",
    "# countylist"
   ]
  },
  {
   "cell_type": "code",
   "execution_count": 3,
   "metadata": {},
   "outputs": [],
   "source": [
    "#Remove commas and convert values to floats\n",
    "#Otherwise we have Chatham County with values like 1,845\n",
    "\n",
    "for year in np.arange(2010,2018):\n",
    "    asthmadf[f'{year}'] = asthmadf[f'{year}'].str.replace(\",\",\"\").astype(float)\n",
    "\n",
    "#Saving as tempdf in order to keep from corrupting original dataframe\n",
    "tempdf = asthmadf"
   ]
  },
  {
   "cell_type": "code",
   "execution_count": 4,
   "metadata": {},
   "outputs": [],
   "source": [
    "#Adding new columns containing the prevalence per county per year\n",
    "\n",
    "for year in np.arange(2010,2018):\n",
    "    tempdf[f'{year} pcnt'] = [asthmadf.loc[county][f'{year}']/float(popdf.loc[f'{county} County, Georgia'][f'respop7{year}']) for county in asthmadf.index]"
   ]
  },
  {
   "cell_type": "code",
   "execution_count": 5,
   "metadata": {},
   "outputs": [],
   "source": [
    "gaaqidf = gaaqidf.drop(columns='State')\n",
    "gaaqidf = gaaqidf.set_index('County')"
   ]
  },
  {
   "cell_type": "code",
   "execution_count": 6,
   "metadata": {},
   "outputs": [
    {
     "data": {
      "text/html": [
       "<div>\n",
       "<style scoped>\n",
       "    .dataframe tbody tr th:only-of-type {\n",
       "        vertical-align: middle;\n",
       "    }\n",
       "\n",
       "    .dataframe tbody tr th {\n",
       "        vertical-align: top;\n",
       "    }\n",
       "\n",
       "    .dataframe thead th {\n",
       "        text-align: right;\n",
       "    }\n",
       "</style>\n",
       "<table border=\"1\" class=\"dataframe\">\n",
       "  <thead>\n",
       "    <tr style=\"text-align: right;\">\n",
       "      <th></th>\n",
       "      <th>Total Days (2010)</th>\n",
       "      <th>Good Days (2010)</th>\n",
       "      <th>Max AQI (2010)</th>\n",
       "      <th>90th Percentile AQI (2010)</th>\n",
       "      <th>Median AQI (2010)</th>\n",
       "      <th>Days PM2.5 (2010)</th>\n",
       "      <th>Days PM10 (2010)</th>\n",
       "      <th>Total Days (2011)</th>\n",
       "      <th>Good Days (2011)</th>\n",
       "      <th>Max AQI (2011)</th>\n",
       "      <th>...</th>\n",
       "      <th>Median AQI (2016)</th>\n",
       "      <th>Days PM2.5 (2016)</th>\n",
       "      <th>Days PM10 (2016)</th>\n",
       "      <th>Total Days (2017)</th>\n",
       "      <th>Good Days (2017)</th>\n",
       "      <th>Max AQI (2017)</th>\n",
       "      <th>90th Percentile AQI (2017)</th>\n",
       "      <th>Median AQI (2017)</th>\n",
       "      <th>Days PM2.5 (2017)</th>\n",
       "      <th>Days PM10 (2017)</th>\n",
       "    </tr>\n",
       "  </thead>\n",
       "  <tbody>\n",
       "    <tr>\n",
       "      <th>Bibb</th>\n",
       "      <td>364.0</td>\n",
       "      <td>160.0</td>\n",
       "      <td>133.0</td>\n",
       "      <td>76.0</td>\n",
       "      <td>53.0</td>\n",
       "      <td>289.0</td>\n",
       "      <td>1.0</td>\n",
       "      <td>364</td>\n",
       "      <td>174</td>\n",
       "      <td>151</td>\n",
       "      <td>...</td>\n",
       "      <td>42</td>\n",
       "      <td>219</td>\n",
       "      <td>0</td>\n",
       "      <td>365.0</td>\n",
       "      <td>284.0</td>\n",
       "      <td>93.0</td>\n",
       "      <td>58.0</td>\n",
       "      <td>40.0</td>\n",
       "      <td>202.0</td>\n",
       "      <td>0.0</td>\n",
       "    </tr>\n",
       "    <tr>\n",
       "      <th>Charlton</th>\n",
       "      <td>119.0</td>\n",
       "      <td>107.0</td>\n",
       "      <td>67.0</td>\n",
       "      <td>51.0</td>\n",
       "      <td>30.0</td>\n",
       "      <td>119.0</td>\n",
       "      <td>0.0</td>\n",
       "      <td>115</td>\n",
       "      <td>93</td>\n",
       "      <td>89</td>\n",
       "      <td>...</td>\n",
       "      <td>23</td>\n",
       "      <td>117</td>\n",
       "      <td>0</td>\n",
       "      <td>47.0</td>\n",
       "      <td>43.0</td>\n",
       "      <td>89.0</td>\n",
       "      <td>47.0</td>\n",
       "      <td>25.0</td>\n",
       "      <td>47.0</td>\n",
       "      <td>0.0</td>\n",
       "    </tr>\n",
       "    <tr>\n",
       "      <th>Chatham</th>\n",
       "      <td>365.0</td>\n",
       "      <td>183.0</td>\n",
       "      <td>107.0</td>\n",
       "      <td>74.0</td>\n",
       "      <td>50.0</td>\n",
       "      <td>178.0</td>\n",
       "      <td>0.0</td>\n",
       "      <td>365</td>\n",
       "      <td>176</td>\n",
       "      <td>160</td>\n",
       "      <td>...</td>\n",
       "      <td>39</td>\n",
       "      <td>191</td>\n",
       "      <td>0</td>\n",
       "      <td>365.0</td>\n",
       "      <td>289.0</td>\n",
       "      <td>84.0</td>\n",
       "      <td>57.0</td>\n",
       "      <td>38.0</td>\n",
       "      <td>230.0</td>\n",
       "      <td>0.0</td>\n",
       "    </tr>\n",
       "    <tr>\n",
       "      <th>Chattooga</th>\n",
       "      <td>264.0</td>\n",
       "      <td>203.0</td>\n",
       "      <td>97.0</td>\n",
       "      <td>71.0</td>\n",
       "      <td>41.0</td>\n",
       "      <td>0.0</td>\n",
       "      <td>22.0</td>\n",
       "      <td>256</td>\n",
       "      <td>202</td>\n",
       "      <td>115</td>\n",
       "      <td>...</td>\n",
       "      <td>42</td>\n",
       "      <td>0</td>\n",
       "      <td>0</td>\n",
       "      <td>240.0</td>\n",
       "      <td>232.0</td>\n",
       "      <td>64.0</td>\n",
       "      <td>45.0</td>\n",
       "      <td>36.0</td>\n",
       "      <td>0.0</td>\n",
       "      <td>0.0</td>\n",
       "    </tr>\n",
       "    <tr>\n",
       "      <th>Clarke</th>\n",
       "      <td>365.0</td>\n",
       "      <td>205.0</td>\n",
       "      <td>147.0</td>\n",
       "      <td>77.0</td>\n",
       "      <td>46.0</td>\n",
       "      <td>228.0</td>\n",
       "      <td>0.0</td>\n",
       "      <td>365</td>\n",
       "      <td>212</td>\n",
       "      <td>126</td>\n",
       "      <td>...</td>\n",
       "      <td>40</td>\n",
       "      <td>171</td>\n",
       "      <td>0</td>\n",
       "      <td>360.0</td>\n",
       "      <td>314.0</td>\n",
       "      <td>97.0</td>\n",
       "      <td>53.0</td>\n",
       "      <td>38.0</td>\n",
       "      <td>172.0</td>\n",
       "      <td>0.0</td>\n",
       "    </tr>\n",
       "  </tbody>\n",
       "</table>\n",
       "<p>5 rows × 56 columns</p>\n",
       "</div>"
      ],
      "text/plain": [
       "           Total Days (2010)  Good Days (2010)  Max AQI (2010)  \\\n",
       "Bibb                   364.0             160.0           133.0   \n",
       "Charlton               119.0             107.0            67.0   \n",
       "Chatham                365.0             183.0           107.0   \n",
       "Chattooga              264.0             203.0            97.0   \n",
       "Clarke                 365.0             205.0           147.0   \n",
       "\n",
       "           90th Percentile AQI (2010)  Median AQI (2010)  Days PM2.5 (2010)  \\\n",
       "Bibb                             76.0               53.0              289.0   \n",
       "Charlton                         51.0               30.0              119.0   \n",
       "Chatham                          74.0               50.0              178.0   \n",
       "Chattooga                        71.0               41.0                0.0   \n",
       "Clarke                           77.0               46.0              228.0   \n",
       "\n",
       "           Days PM10 (2010)  Total Days (2011)  Good Days (2011)  \\\n",
       "Bibb                    1.0                364               174   \n",
       "Charlton                0.0                115                93   \n",
       "Chatham                 0.0                365               176   \n",
       "Chattooga              22.0                256               202   \n",
       "Clarke                  0.0                365               212   \n",
       "\n",
       "           Max AQI (2011)        ...         Median AQI (2016)  \\\n",
       "Bibb                  151        ...                        42   \n",
       "Charlton               89        ...                        23   \n",
       "Chatham               160        ...                        39   \n",
       "Chattooga             115        ...                        42   \n",
       "Clarke                126        ...                        40   \n",
       "\n",
       "           Days PM2.5 (2016)  Days PM10 (2016)  Total Days (2017)  \\\n",
       "Bibb                     219                 0              365.0   \n",
       "Charlton                 117                 0               47.0   \n",
       "Chatham                  191                 0              365.0   \n",
       "Chattooga                  0                 0              240.0   \n",
       "Clarke                   171                 0              360.0   \n",
       "\n",
       "           Good Days (2017)  Max AQI (2017)  90th Percentile AQI (2017)  \\\n",
       "Bibb                  284.0            93.0                        58.0   \n",
       "Charlton               43.0            89.0                        47.0   \n",
       "Chatham               289.0            84.0                        57.0   \n",
       "Chattooga             232.0            64.0                        45.0   \n",
       "Clarke                314.0            97.0                        53.0   \n",
       "\n",
       "           Median AQI (2017)  Days PM2.5 (2017)  Days PM10 (2017)  \n",
       "Bibb                    40.0              202.0               0.0  \n",
       "Charlton                25.0               47.0               0.0  \n",
       "Chatham                 38.0              230.0               0.0  \n",
       "Chattooga               36.0                0.0               0.0  \n",
       "Clarke                  38.0              172.0               0.0  \n",
       "\n",
       "[5 rows x 56 columns]"
      ]
     },
     "execution_count": 6,
     "metadata": {},
     "output_type": "execute_result"
    }
   ],
   "source": [
    "#Next step: Keep days{year}, gooddays{year}, max{year}, median{year}, 90pcnt{year}\n",
    "\n",
    "splitaqidf = pd.DataFrame(index=countylist)\n",
    "\n",
    "for year in np.arange(2010,2018):\n",
    "    splitaqidf[f'Total Days ({year})'] = gaaqidf.loc[gaaqidf['Year']==year]['Days with AQI']\n",
    "    splitaqidf[f'Good Days ({year})'] = gaaqidf.loc[gaaqidf['Year']==year]['Good Days']\n",
    "    splitaqidf[f'Max AQI ({year})'] = gaaqidf.loc[gaaqidf['Year']==year]['Max AQI']\n",
    "    splitaqidf[f'90th Percentile AQI ({year})'] = gaaqidf.loc[gaaqidf['Year']==year]['90th Percentile AQI']\n",
    "    splitaqidf[f'Median AQI ({year})'] = gaaqidf.loc[gaaqidf['Year']==year]['Median AQI']\n",
    "    splitaqidf[f'Days PM2.5 ({year})'] = gaaqidf.loc[gaaqidf['Year']==year]['Days PM2.5']\n",
    "    splitaqidf[f'Days PM10 ({year})'] = gaaqidf.loc[gaaqidf['Year']==year]['Days PM10']\n",
    "    \n",
    "    \n",
    "splitaqidf.head()"
   ]
  },
  {
   "cell_type": "code",
   "execution_count": 35,
   "metadata": {},
   "outputs": [],
   "source": [
    "mergeddf = pd.merge(splitaqidf,tempdf,left_index=True,right_index=True)"
   ]
  },
  {
   "cell_type": "code",
   "execution_count": 8,
   "metadata": {},
   "outputs": [
    {
     "data": {
      "text/html": [
       "<div>\n",
       "<style scoped>\n",
       "    .dataframe tbody tr th:only-of-type {\n",
       "        vertical-align: middle;\n",
       "    }\n",
       "\n",
       "    .dataframe tbody tr th {\n",
       "        vertical-align: top;\n",
       "    }\n",
       "\n",
       "    .dataframe thead th {\n",
       "        text-align: right;\n",
       "    }\n",
       "</style>\n",
       "<table border=\"1\" class=\"dataframe\">\n",
       "  <thead>\n",
       "    <tr style=\"text-align: right;\">\n",
       "      <th></th>\n",
       "      <th>Total Days (2010)</th>\n",
       "      <th>Good Days (2010)</th>\n",
       "      <th>Max AQI (2010)</th>\n",
       "      <th>90th Percentile AQI (2010)</th>\n",
       "      <th>Median AQI (2010)</th>\n",
       "      <th>Days PM2.5 (2010)</th>\n",
       "      <th>Days PM10 (2010)</th>\n",
       "      <th>Total Days (2011)</th>\n",
       "      <th>Good Days (2011)</th>\n",
       "      <th>Max AQI (2011)</th>\n",
       "      <th>...</th>\n",
       "      <th>Days PM2.5 (2017)</th>\n",
       "      <th>Days PM10 (2017)</th>\n",
       "      <th>2010 pcnt</th>\n",
       "      <th>2011 pcnt</th>\n",
       "      <th>2012 pcnt</th>\n",
       "      <th>2013 pcnt</th>\n",
       "      <th>2014 pcnt</th>\n",
       "      <th>2015 pcnt</th>\n",
       "      <th>2016 pcnt</th>\n",
       "      <th>2017 pcnt</th>\n",
       "    </tr>\n",
       "  </thead>\n",
       "  <tbody>\n",
       "    <tr>\n",
       "      <th>Bibb</th>\n",
       "      <td>364.0</td>\n",
       "      <td>160.0</td>\n",
       "      <td>133.0</td>\n",
       "      <td>76.0</td>\n",
       "      <td>53.0</td>\n",
       "      <td>289.0</td>\n",
       "      <td>1.0</td>\n",
       "      <td>364</td>\n",
       "      <td>174</td>\n",
       "      <td>151</td>\n",
       "      <td>...</td>\n",
       "      <td>202.0</td>\n",
       "      <td>0.0</td>\n",
       "      <td>0.006187</td>\n",
       "      <td>0.005806</td>\n",
       "      <td>0.006492</td>\n",
       "      <td>0.006345</td>\n",
       "      <td>0.006599</td>\n",
       "      <td>0.006673</td>\n",
       "      <td>0.008642</td>\n",
       "      <td>0.009263</td>\n",
       "    </tr>\n",
       "    <tr>\n",
       "      <th>Charlton</th>\n",
       "      <td>119.0</td>\n",
       "      <td>107.0</td>\n",
       "      <td>67.0</td>\n",
       "      <td>51.0</td>\n",
       "      <td>30.0</td>\n",
       "      <td>119.0</td>\n",
       "      <td>0.0</td>\n",
       "      <td>115</td>\n",
       "      <td>93</td>\n",
       "      <td>89</td>\n",
       "      <td>...</td>\n",
       "      <td>47.0</td>\n",
       "      <td>0.0</td>\n",
       "      <td>0.003968</td>\n",
       "      <td>0.003343</td>\n",
       "      <td>0.002919</td>\n",
       "      <td>0.002896</td>\n",
       "      <td>0.002071</td>\n",
       "      <td>0.001744</td>\n",
       "      <td>0.001490</td>\n",
       "      <td>0.001416</td>\n",
       "    </tr>\n",
       "    <tr>\n",
       "      <th>Chatham</th>\n",
       "      <td>365.0</td>\n",
       "      <td>183.0</td>\n",
       "      <td>107.0</td>\n",
       "      <td>74.0</td>\n",
       "      <td>50.0</td>\n",
       "      <td>178.0</td>\n",
       "      <td>0.0</td>\n",
       "      <td>365</td>\n",
       "      <td>176</td>\n",
       "      <td>160</td>\n",
       "      <td>...</td>\n",
       "      <td>230.0</td>\n",
       "      <td>0.0</td>\n",
       "      <td>0.007015</td>\n",
       "      <td>0.007036</td>\n",
       "      <td>0.008022</td>\n",
       "      <td>0.007551</td>\n",
       "      <td>0.006519</td>\n",
       "      <td>0.005861</td>\n",
       "      <td>0.006179</td>\n",
       "      <td>0.006296</td>\n",
       "    </tr>\n",
       "    <tr>\n",
       "      <th>Chattooga</th>\n",
       "      <td>264.0</td>\n",
       "      <td>203.0</td>\n",
       "      <td>97.0</td>\n",
       "      <td>71.0</td>\n",
       "      <td>41.0</td>\n",
       "      <td>0.0</td>\n",
       "      <td>22.0</td>\n",
       "      <td>256</td>\n",
       "      <td>202</td>\n",
       "      <td>115</td>\n",
       "      <td>...</td>\n",
       "      <td>0.0</td>\n",
       "      <td>0.0</td>\n",
       "      <td>0.002736</td>\n",
       "      <td>0.002298</td>\n",
       "      <td>0.003747</td>\n",
       "      <td>0.003274</td>\n",
       "      <td>0.004023</td>\n",
       "      <td>0.002571</td>\n",
       "      <td>0.003181</td>\n",
       "      <td>0.002301</td>\n",
       "    </tr>\n",
       "    <tr>\n",
       "      <th>Clarke</th>\n",
       "      <td>365.0</td>\n",
       "      <td>205.0</td>\n",
       "      <td>147.0</td>\n",
       "      <td>77.0</td>\n",
       "      <td>46.0</td>\n",
       "      <td>228.0</td>\n",
       "      <td>0.0</td>\n",
       "      <td>365</td>\n",
       "      <td>212</td>\n",
       "      <td>126</td>\n",
       "      <td>...</td>\n",
       "      <td>172.0</td>\n",
       "      <td>0.0</td>\n",
       "      <td>0.003490</td>\n",
       "      <td>0.003749</td>\n",
       "      <td>0.004254</td>\n",
       "      <td>0.004649</td>\n",
       "      <td>0.004548</td>\n",
       "      <td>0.004480</td>\n",
       "      <td>0.004879</td>\n",
       "      <td>0.004651</td>\n",
       "    </tr>\n",
       "  </tbody>\n",
       "</table>\n",
       "<p>5 rows × 64 columns</p>\n",
       "</div>"
      ],
      "text/plain": [
       "           Total Days (2010)  Good Days (2010)  Max AQI (2010)  \\\n",
       "Bibb                   364.0             160.0           133.0   \n",
       "Charlton               119.0             107.0            67.0   \n",
       "Chatham                365.0             183.0           107.0   \n",
       "Chattooga              264.0             203.0            97.0   \n",
       "Clarke                 365.0             205.0           147.0   \n",
       "\n",
       "           90th Percentile AQI (2010)  Median AQI (2010)  Days PM2.5 (2010)  \\\n",
       "Bibb                             76.0               53.0              289.0   \n",
       "Charlton                         51.0               30.0              119.0   \n",
       "Chatham                          74.0               50.0              178.0   \n",
       "Chattooga                        71.0               41.0                0.0   \n",
       "Clarke                           77.0               46.0              228.0   \n",
       "\n",
       "           Days PM10 (2010)  Total Days (2011)  Good Days (2011)  \\\n",
       "Bibb                    1.0                364               174   \n",
       "Charlton                0.0                115                93   \n",
       "Chatham                 0.0                365               176   \n",
       "Chattooga              22.0                256               202   \n",
       "Clarke                  0.0                365               212   \n",
       "\n",
       "           Max AQI (2011)    ...      Days PM2.5 (2017)  Days PM10 (2017)  \\\n",
       "Bibb                  151    ...                  202.0               0.0   \n",
       "Charlton               89    ...                   47.0               0.0   \n",
       "Chatham               160    ...                  230.0               0.0   \n",
       "Chattooga             115    ...                    0.0               0.0   \n",
       "Clarke                126    ...                  172.0               0.0   \n",
       "\n",
       "           2010 pcnt  2011 pcnt  2012 pcnt  2013 pcnt  2014 pcnt  2015 pcnt  \\\n",
       "Bibb        0.006187   0.005806   0.006492   0.006345   0.006599   0.006673   \n",
       "Charlton    0.003968   0.003343   0.002919   0.002896   0.002071   0.001744   \n",
       "Chatham     0.007015   0.007036   0.008022   0.007551   0.006519   0.005861   \n",
       "Chattooga   0.002736   0.002298   0.003747   0.003274   0.004023   0.002571   \n",
       "Clarke      0.003490   0.003749   0.004254   0.004649   0.004548   0.004480   \n",
       "\n",
       "           2016 pcnt  2017 pcnt  \n",
       "Bibb        0.008642   0.009263  \n",
       "Charlton    0.001490   0.001416  \n",
       "Chatham     0.006179   0.006296  \n",
       "Chattooga   0.003181   0.002301  \n",
       "Clarke      0.004879   0.004651  \n",
       "\n",
       "[5 rows x 64 columns]"
      ]
     },
     "execution_count": 8,
     "metadata": {},
     "output_type": "execute_result"
    }
   ],
   "source": [
    "mergeddf = mergeddf.drop(columns=['2010','2011','2012','2013','2014','2015','2016','2017'])\n",
    "mergeddf.head()\n",
    "# mergeddf.to_csv(\"./mergeddf.csv\")"
   ]
  },
  {
   "cell_type": "code",
   "execution_count": 9,
   "metadata": {},
   "outputs": [
    {
     "data": {
      "text/plain": [
       "Index(['Total Days (2010)', 'Good Days (2010)', 'Max AQI (2010)',\n",
       "       '90th Percentile AQI (2010)', 'Median AQI (2010)', 'Days PM2.5 (2010)',\n",
       "       'Days PM10 (2010)', 'Total Days (2011)', 'Good Days (2011)',\n",
       "       'Max AQI (2011)', '90th Percentile AQI (2011)', 'Median AQI (2011)',\n",
       "       'Days PM2.5 (2011)', 'Days PM10 (2011)', 'Total Days (2012)',\n",
       "       'Good Days (2012)', 'Max AQI (2012)', '90th Percentile AQI (2012)',\n",
       "       'Median AQI (2012)', 'Days PM2.5 (2012)', 'Days PM10 (2012)',\n",
       "       'Total Days (2013)', 'Good Days (2013)', 'Max AQI (2013)',\n",
       "       '90th Percentile AQI (2013)', 'Median AQI (2013)', 'Days PM2.5 (2013)',\n",
       "       'Days PM10 (2013)', 'Total Days (2014)', 'Good Days (2014)',\n",
       "       'Max AQI (2014)', '90th Percentile AQI (2014)', 'Median AQI (2014)',\n",
       "       'Days PM2.5 (2014)', 'Days PM10 (2014)', 'Total Days (2015)',\n",
       "       'Good Days (2015)', 'Max AQI (2015)', '90th Percentile AQI (2015)',\n",
       "       'Median AQI (2015)', 'Days PM2.5 (2015)', 'Days PM10 (2015)',\n",
       "       'Total Days (2016)', 'Good Days (2016)', 'Max AQI (2016)',\n",
       "       '90th Percentile AQI (2016)', 'Median AQI (2016)', 'Days PM2.5 (2016)',\n",
       "       'Days PM10 (2016)', 'Total Days (2017)', 'Good Days (2017)',\n",
       "       'Max AQI (2017)', '90th Percentile AQI (2017)', 'Median AQI (2017)',\n",
       "       'Days PM2.5 (2017)', 'Days PM10 (2017)', '2010 pcnt', '2011 pcnt',\n",
       "       '2012 pcnt', '2013 pcnt', '2014 pcnt', '2015 pcnt', '2016 pcnt',\n",
       "       '2017 pcnt'],\n",
       "      dtype='object')"
      ]
     },
     "execution_count": 9,
     "metadata": {},
     "output_type": "execute_result"
    }
   ],
   "source": [
    "mergeddf.keys()"
   ]
  },
  {
   "cell_type": "markdown",
   "metadata": {},
   "source": [
    "## Plotting"
   ]
  },
  {
   "cell_type": "code",
   "execution_count": 10,
   "metadata": {},
   "outputs": [],
   "source": [
    "xaxis2010 = mergeddf[\"Median AQI (2010)\"]\n",
    "yaxis2010 = mergeddf[\"2010 pcnt\"]\n",
    "\n",
    "xaxis2011 = mergeddf[\"Median AQI (2011)\"]\n",
    "yaxis2011 = mergeddf[\"2011 pcnt\"]\n",
    "\n",
    "xaxis2012 = mergeddf[\"Median AQI (2012)\"]\n",
    "yaxis2012 = mergeddf[\"2012 pcnt\"]\n",
    "\n",
    "xaxis2013 = mergeddf[\"Median AQI (2013)\"]\n",
    "yaxis2013 = mergeddf[\"2013 pcnt\"]\n",
    "\n",
    "xaxis2014 = mergeddf[\"Median AQI (2014)\"]\n",
    "yaxis2014 = mergeddf[\"2014 pcnt\"]\n",
    "\n",
    "xaxis2015 = mergeddf[\"Median AQI (2015)\"]\n",
    "yaxis2015 = mergeddf[\"2015 pcnt\"]\n",
    "\n",
    "xaxis2016 = mergeddf[\"Median AQI (2016)\"]\n",
    "yaxis2016 = mergeddf[\"2016 pcnt\"]\n",
    "\n",
    "xaxis2017 = mergeddf[\"Median AQI (2017)\"]\n",
    "yaxis2017 = mergeddf[\"2017 pcnt\"]"
   ]
  },
  {
   "cell_type": "code",
   "execution_count": 36,
   "metadata": {},
   "outputs": [
    {
     "data": {
      "image/png": "[encoded data removed]",
      "text/plain": [
       "<Figure size 432x288 with 1 Axes>"
      ]
     },
     "metadata": {},
     "output_type": "display_data"
    }
   ],
   "source": [
    "plt.scatter(xaxis2010, yaxis2010, s = 50, marker=\"o\", facecolors=\"LightCoral\", edgecolors=\"black\", alpha = .75)\n",
    "plt.grid(b=True, which='major', axis='both')\n",
    "x_label = plt.xlabel(\"Median AQI\")\n",
    "y_label = plt.ylabel(\"Urgent Asthma Prevalence\")\n",
    "plt.title(\"Air Qualiy & Asthma Data (2010)\")\n",
    "plt.savefig(\"../Images/air_asthma_plot_2010.png\")"
   ]
  },
  {
   "cell_type": "code",
   "execution_count": 37,
   "metadata": {},
   "outputs": [
    {
     "data": {
      "image/png": "[encoded data removed]",
      "text/plain": [
       "<Figure size 432x288 with 1 Axes>"
      ]
     },
     "metadata": {},
     "output_type": "display_data"
    }
   ],
   "source": [
    "plt.scatter(xaxis2011, yaxis2011, s = 50, marker=\"o\", facecolors=\"Orange\", edgecolors=\"black\", alpha = .75)\n",
    "plt.grid(b=True, which='major', axis='both')\n",
    "x_label = plt.xlabel(\"Median AQI\")\n",
    "y_label = plt.ylabel(\"Urgent Asthma Prevalence\")\n",
    "plt.title(\"Air Qualiy & Asthma Data (2011)\")\n",
    "plt.savefig(\"../Images/air_asthma_plot_2011.png\")"
   ]
  },
  {
   "cell_type": "code",
   "execution_count": 38,
   "metadata": {},
   "outputs": [
    {
     "data": {
      "image/png": "[encoded data removed]",
      "text/plain": [
       "<Figure size 432x288 with 1 Axes>"
      ]
     },
     "metadata": {},
     "output_type": "display_data"
    }
   ],
   "source": [
    "plt.scatter(xaxis2012, yaxis2012, s = 50, marker=\"o\", facecolors=\"Yellow\", edgecolors=\"black\", alpha = .75)\n",
    "plt.grid(b=True, which='major', axis='both')\n",
    "x_label = plt.xlabel(\"Median AQI\")\n",
    "y_label = plt.ylabel(\"Urgent Asthma Prevalence\")\n",
    "plt.title(\"Air Qualiy & Asthma Data (2012)\")\n",
    "plt.savefig(\"../Images/air_asthma_plot_2012.png\")"
   ]
  },
  {
   "cell_type": "code",
   "execution_count": 39,
   "metadata": {},
   "outputs": [
    {
     "data": {
      "image/png": "[encoded data removed]",
      "text/plain": [
       "<Figure size 432x288 with 1 Axes>"
      ]
     },
     "metadata": {},
     "output_type": "display_data"
    }
   ],
   "source": [
    "plt.scatter(xaxis2013, yaxis2013, s = 50, marker=\"o\", facecolors=\"LightGreen\", edgecolors=\"black\", alpha = .75)\n",
    "plt.grid(b=True, which='major', axis='both')\n",
    "x_label = plt.xlabel(\"Median AQI\")\n",
    "y_label = plt.ylabel(\"Urgent Asthma Prevalence\")\n",
    "plt.title(\"Air Qualiy & Asthma Data (2013)\")\n",
    "plt.savefig(\"../Images/air_asthma_plot_2013.png\")"
   ]
  },
  {
   "cell_type": "code",
   "execution_count": 40,
   "metadata": {},
   "outputs": [
    {
     "data": {
      "image/png": "[encoded data removed]",
      "text/plain": [
       "<Figure size 432x288 with 1 Axes>"
      ]
     },
     "metadata": {},
     "output_type": "display_data"
    }
   ],
   "source": [
    "plt.scatter(xaxis2014, yaxis2014, s = 50, marker=\"o\", facecolors=\"SkyBlue\", edgecolors=\"black\", alpha = .75)\n",
    "plt.grid(b=True, which='major', axis='both')\n",
    "x_label = plt.xlabel(\"Median AQI\")\n",
    "y_label = plt.ylabel(\"Urgent Asthma Prevalence\")\n",
    "plt.title(\"Air Qualiy & Asthma Data (2014)\")\n",
    "plt.savefig(\"../Images/air_asthma_plot_2014.png\")"
   ]
  },
  {
   "cell_type": "code",
   "execution_count": 41,
   "metadata": {},
   "outputs": [
    {
     "data": {
      "image/png": "[encoded data removed]",
      "text/plain": [
       "<Figure size 432x288 with 1 Axes>"
      ]
     },
     "metadata": {},
     "output_type": "display_data"
    }
   ],
   "source": [
    "plt.scatter(xaxis2015, yaxis2015, s = 50, marker=\"o\", facecolors=\"Purple\", edgecolors=\"black\", alpha = .75)\n",
    "plt.grid(b=True, which='major', axis='both')\n",
    "x_label = plt.xlabel(\"Median AQI\")\n",
    "y_label = plt.ylabel(\"Urgent Asthma Prevalence\")\n",
    "plt.title(\"Air Qualiy & Asthma Data (2015)\")\n",
    "plt.savefig(\"../Images/air_asthma_plot_2015.png\")"
   ]
  },
  {
   "cell_type": "code",
   "execution_count": 42,
   "metadata": {},
   "outputs": [
    {
     "data": {
      "image/png": "[encoded data removed]",
      "text/plain": [
       "<Figure size 432x288 with 1 Axes>"
      ]
     },
     "metadata": {},
     "output_type": "display_data"
    }
   ],
   "source": [
    "plt.scatter(xaxis2016, yaxis2016, s = 50, marker=\"o\", facecolors=\"Gold\", edgecolors=\"black\", alpha = .75)\n",
    "plt.grid(b=True, which='major', axis='both')\n",
    "x_label = plt.xlabel(\"Median AQI\")\n",
    "y_label = plt.ylabel(\"Urgent Asthma Prevalence\")\n",
    "plt.title(\"Air Qualiy & Asthma Data (2016)\")\n",
    "plt.savefig(\"../Images/air_asthma_plot_2016.png\")"
   ]
  },
  {
   "cell_type": "code",
   "execution_count": 43,
   "metadata": {},
   "outputs": [
    {
     "data": {
      "image/png": "[encoded data removed]",
      "text/plain": [
       "<Figure size 432x288 with 1 Axes>"
      ]
     },
     "metadata": {},
     "output_type": "display_data"
    }
   ],
   "source": [
    "plt.scatter(xaxis2017, yaxis2017, s = 50, marker=\"o\", facecolors=\"Teal\", edgecolors=\"black\", alpha = .75)\n",
    "plt.grid(b=True, which='major', axis='both')\n",
    "x_label = plt.xlabel(\"Median AQI\")\n",
    "y_label = plt.ylabel(\"Urgent Asthma Prevalence\")\n",
    "plt.title(\"Air Qualiy & Asthma Data (2017)\")\n",
    "plt.savefig(\"../Images/air_asthma_plot_2017.png\")"
   ]
  },
  {
   "cell_type": "code",
   "execution_count": 19,
   "metadata": {},
   "outputs": [],
   "source": [
    "# compare2010 = mergeddf [[\"Median AQI (2010)\", \"2010 pcnt\"]]\n",
    "# compare2011 = mergeddf [[\"Median AQI (2011)\", \"2011 pcnt\"]]\n",
    "# compare2012 = mergeddf [[\"Median AQI (2012)\", \"2012 pcnt\"]]\n",
    "# compare2013 = mergeddf [[\"Median AQI (2013)\", \"2013 pcnt\"]]\n",
    "# compare2014 = mergeddf [[\"Median AQI (2014)\", \"2014 pcnt\"]]\n",
    "# compare2015 = mergeddf [[\"Median AQI (2015)\", \"2015 pcnt\"]]\n",
    "# compare2016 = mergeddf [[\"Median AQI (2016)\", \"2016 pcnt\"]]\n",
    "# compare2017 = mergeddf [[\"Median AQI (2017)\", \"2017 pcnt\"]]"
   ]
  },
  {
   "cell_type": "code",
   "execution_count": 20,
   "metadata": {},
   "outputs": [
    {
     "name": "stdout",
     "output_type": "stream",
     "text": [
      "Input the county name to display a summary. bibb\n",
      "County data not found.\n",
      "Search for another county? (y or n). n\n"
     ]
    }
   ],
   "source": [
    "researching = \"y\"\n",
    "while researching == \"y\":\n",
    "    user_county = input(\"Input the county name to display a summary. \")\n",
    "    if user_county in countylist:\n",
    "        countydata = pd.DataFrame(mergeddf.loc[user_county])\n",
    "        years = [\"2010\", \"2011\", \"2012\"]\n",
    "        medaqi_year = pd.Series(countydata[user_county].loc[[\"Median AQI (2010)\", \"Median AQI (2011)\", \"Median AQI (2012)\"]])\n",
    "        plt.figure()\n",
    "\n",
    "        print(countydata.head())\n",
    "        plt.plot(years, medaqi_year)\n",
    "        plt.show()\n",
    "        researching = input(\"Search for another county? (y or n). \")\n",
    "\n",
    "    else:\n",
    "        print(\"County data not found.\")\n",
    "        researching = input(\"Search for another county? (y or n). \")"
   ]
  },
  {
   "cell_type": "code",
   "execution_count": 21,
   "metadata": {},
   "outputs": [],
   "source": [
    "# countydata.loc[[\"Median AQI (2010)\", \"Max AQI (2010)\"]]\n",
    "# pd.Series(countydata[user_county].loc[[\"Median AQI (2010)\", \"Max AQI (2010)\"]])"
   ]
  },
  {
   "cell_type": "code",
   "execution_count": 73,
   "metadata": {},
   "outputs": [
    {
     "data": {
      "text/html": [
       "<div>\n",
       "<style scoped>\n",
       "    .dataframe tbody tr th:only-of-type {\n",
       "        vertical-align: middle;\n",
       "    }\n",
       "\n",
       "    .dataframe tbody tr th {\n",
       "        vertical-align: top;\n",
       "    }\n",
       "\n",
       "    .dataframe thead th {\n",
       "        text-align: right;\n",
       "    }\n",
       "</style>\n",
       "<table border=\"1\" class=\"dataframe\">\n",
       "  <thead>\n",
       "    <tr style=\"text-align: right;\">\n",
       "      <th></th>\n",
       "      <th>90th Percentile AQI (2010)</th>\n",
       "      <th>90th Percentile AQI (2011)</th>\n",
       "      <th>90th Percentile AQI (2012)</th>\n",
       "      <th>90th Percentile AQI (2013)</th>\n",
       "      <th>90th Percentile AQI (2014)</th>\n",
       "      <th>90th Percentile AQI (2015)</th>\n",
       "      <th>90th Percentile AQI (2016)</th>\n",
       "      <th>90th Percentile AQI (2017)</th>\n",
       "    </tr>\n",
       "  </thead>\n",
       "  <tbody>\n",
       "    <tr>\n",
       "      <th>Bibb</th>\n",
       "      <td>76.0</td>\n",
       "      <td>87</td>\n",
       "      <td>69</td>\n",
       "      <td>61</td>\n",
       "      <td>64</td>\n",
       "      <td>60</td>\n",
       "      <td>63</td>\n",
       "      <td>58.0</td>\n",
       "    </tr>\n",
       "    <tr>\n",
       "      <th>Charlton</th>\n",
       "      <td>51.0</td>\n",
       "      <td>57</td>\n",
       "      <td>42</td>\n",
       "      <td>41</td>\n",
       "      <td>48</td>\n",
       "      <td>39</td>\n",
       "      <td>43</td>\n",
       "      <td>47.0</td>\n",
       "    </tr>\n",
       "    <tr>\n",
       "      <th>Chatham</th>\n",
       "      <td>74.0</td>\n",
       "      <td>81</td>\n",
       "      <td>68</td>\n",
       "      <td>69</td>\n",
       "      <td>60</td>\n",
       "      <td>57</td>\n",
       "      <td>55</td>\n",
       "      <td>57.0</td>\n",
       "    </tr>\n",
       "    <tr>\n",
       "      <th>Chattooga</th>\n",
       "      <td>71.0</td>\n",
       "      <td>61</td>\n",
       "      <td>61</td>\n",
       "      <td>46</td>\n",
       "      <td>49</td>\n",
       "      <td>49</td>\n",
       "      <td>51</td>\n",
       "      <td>45.0</td>\n",
       "    </tr>\n",
       "    <tr>\n",
       "      <th>Clarke</th>\n",
       "      <td>77.0</td>\n",
       "      <td>81</td>\n",
       "      <td>67</td>\n",
       "      <td>60</td>\n",
       "      <td>61</td>\n",
       "      <td>54</td>\n",
       "      <td>61</td>\n",
       "      <td>53.0</td>\n",
       "    </tr>\n",
       "  </tbody>\n",
       "</table>\n",
       "</div>"
      ],
      "text/plain": [
       "           90th Percentile AQI (2010)  90th Percentile AQI (2011)  \\\n",
       "Bibb                             76.0                          87   \n",
       "Charlton                         51.0                          57   \n",
       "Chatham                          74.0                          81   \n",
       "Chattooga                        71.0                          61   \n",
       "Clarke                           77.0                          81   \n",
       "\n",
       "           90th Percentile AQI (2012)  90th Percentile AQI (2013)  \\\n",
       "Bibb                               69                          61   \n",
       "Charlton                           42                          41   \n",
       "Chatham                            68                          69   \n",
       "Chattooga                          61                          46   \n",
       "Clarke                             67                          60   \n",
       "\n",
       "           90th Percentile AQI (2014)  90th Percentile AQI (2015)  \\\n",
       "Bibb                               64                          60   \n",
       "Charlton                           48                          39   \n",
       "Chatham                            60                          57   \n",
       "Chattooga                          49                          49   \n",
       "Clarke                             61                          54   \n",
       "\n",
       "           90th Percentile AQI (2016)  90th Percentile AQI (2017)  \n",
       "Bibb                               63                        58.0  \n",
       "Charlton                           43                        47.0  \n",
       "Chatham                            55                        57.0  \n",
       "Chattooga                          51                        45.0  \n",
       "Clarke                             61                        53.0  "
      ]
     },
     "execution_count": 73,
     "metadata": {},
     "output_type": "execute_result"
    }
   ],
   "source": [
    "aqi90 = mergeddf[[\"90th Percentile AQI (2010)\", \"90th Percentile AQI (2011)\", \"90th Percentile AQI (2012)\", \"90th Percentile AQI (2013)\", \"90th Percentile AQI (2014)\", \"90th Percentile AQI (2015)\", \"90th Percentile AQI (2016)\", \"90th Percentile AQI (2017)\"]]\n",
    "aqi90.head()"
   ]
  },
  {
   "cell_type": "code",
   "execution_count": 74,
   "metadata": {},
   "outputs": [
    {
     "data": {
      "image/png": "[encoded data removed]",
      "text/plain": [
       "<Figure size 432x288 with 1 Axes>"
      ]
     },
     "metadata": {},
     "output_type": "display_data"
    },
    {
     "data": {
      "text/plain": [
       "<Figure size 432x288 with 0 Axes>"
      ]
     },
     "metadata": {},
     "output_type": "display_data"
    }
   ],
   "source": [
    "fig, ax = plt.subplots()\n",
    "yaxis2017 = np.arange(len(countylist))\n",
    "aqi902017 = pd.Series(aqi90[\"90th Percentile AQI (2017)\"])\n",
    "\n",
    "ax.barh(yaxis2017, aqi902017, align='center',\n",
    "        color='skyblue', ecolor='black')\n",
    "ax.set_yticks(yaxis2017)\n",
    "ax.set_yticklabels(countylist)\n",
    "ax.invert_yaxis()  # labels read top-to-bottom\n",
    "ax.set_xlabel('90th Percentile AQI (2017)')\n",
    "ax.set_title('90th Percentile AQI by County')\n",
    "ax.set_xlim([0, 110])\n",
    "ax.axvline(x=100, ymin=0, ymax=1, color=\"red\")\n",
    "plt.text(112, 10, \"Note:\\n National AQI Standard = 100.\")\n",
    "\n",
    "plt.show()\n",
    "plt.savefig(\"../Images/county_vs_national_2017.png\")"
   ]
  },
  {
   "cell_type": "markdown",
   "metadata": {},
   "source": [
    "## Google Map API Call"
   ]
  },
  {
   "cell_type": "code",
   "execution_count": 22,
   "metadata": {},
   "outputs": [],
   "source": [
    "# Census API Key\n",
    "c = Census(censuskey)\n",
    "gmaps.configure(api_key = googmapskey)"
   ]
  },
  {
   "cell_type": "code",
   "execution_count": 70,
   "metadata": {},
   "outputs": [
    {
     "data": {
      "text/html": [
       "<div>\n",
       "<style scoped>\n",
       "    .dataframe tbody tr th:only-of-type {\n",
       "        vertical-align: middle;\n",
       "    }\n",
       "\n",
       "    .dataframe tbody tr th {\n",
       "        vertical-align: top;\n",
       "    }\n",
       "\n",
       "    .dataframe thead th {\n",
       "        text-align: right;\n",
       "    }\n",
       "</style>\n",
       "<table border=\"1\" class=\"dataframe\">\n",
       "  <thead>\n",
       "    <tr style=\"text-align: right;\">\n",
       "      <th></th>\n",
       "      <th>State or Territory</th>\n",
       "      <th>Number with Current Asthma</th>\n",
       "      <th>Percent with Current Asthma</th>\n",
       "      <th>Latitude</th>\n",
       "      <th>Longitude</th>\n",
       "    </tr>\n",
       "  </thead>\n",
       "  <tbody>\n",
       "    <tr>\n",
       "      <th>0</th>\n",
       "      <td>Alabama</td>\n",
       "      <td>370,128</td>\n",
       "      <td>9.9</td>\n",
       "      <td>32.806671</td>\n",
       "      <td>-86.791130</td>\n",
       "    </tr>\n",
       "    <tr>\n",
       "      <th>1</th>\n",
       "      <td>Alaska</td>\n",
       "      <td>50,792</td>\n",
       "      <td>9.2</td>\n",
       "      <td>61.370716</td>\n",
       "      <td>-152.404419</td>\n",
       "    </tr>\n",
       "    <tr>\n",
       "      <th>2</th>\n",
       "      <td>Arizona</td>\n",
       "      <td>479,791</td>\n",
       "      <td>9.3</td>\n",
       "      <td>33.729759</td>\n",
       "      <td>-111.431221</td>\n",
       "    </tr>\n",
       "    <tr>\n",
       "      <th>3</th>\n",
       "      <td>Arkansas</td>\n",
       "      <td>226,691</td>\n",
       "      <td>10.1</td>\n",
       "      <td>34.969704</td>\n",
       "      <td>-92.373123</td>\n",
       "    </tr>\n",
       "    <tr>\n",
       "      <th>4</th>\n",
       "      <td>California</td>\n",
       "      <td>2,290,491</td>\n",
       "      <td>7.7</td>\n",
       "      <td>36.116203</td>\n",
       "      <td>-119.681564</td>\n",
       "    </tr>\n",
       "  </tbody>\n",
       "</table>\n",
       "</div>"
      ],
      "text/plain": [
       "  State or Territory Number with Current Asthma  Percent with Current Asthma  \\\n",
       "0            Alabama                    370,128                          9.9   \n",
       "1             Alaska                     50,792                          9.2   \n",
       "2            Arizona                    479,791                          9.3   \n",
       "3           Arkansas                    226,691                         10.1   \n",
       "4         California                  2,290,491                          7.7   \n",
       "\n",
       "    Latitude   Longitude  \n",
       "0  32.806671  -86.791130  \n",
       "1  61.370716 -152.404419  \n",
       "2  33.729759 -111.431221  \n",
       "3  34.969704  -92.373123  \n",
       "4  36.116203 -119.681564  "
      ]
     },
     "execution_count": 70,
     "metadata": {},
     "output_type": "execute_result"
    }
   ],
   "source": [
    "# Create dataframe\n",
    "stateasthma_df = pd.DataFrame(pd.read_csv(\"../Datasets/usstates.csv\"))\n",
    "stateasthma_df = stateasthma_df.dropna()\n",
    "stateasthma_df.sort_values(\"Percent with Current Asthma\")\n",
    "stateasthma_df.head()"
   ]
  },
  {
   "cell_type": "code",
   "execution_count": 24,
   "metadata": {},
   "outputs": [
    {
     "data": {
      "text/html": [
       "<div>\n",
       "<style scoped>\n",
       "    .dataframe tbody tr th:only-of-type {\n",
       "        vertical-align: middle;\n",
       "    }\n",
       "\n",
       "    .dataframe tbody tr th {\n",
       "        vertical-align: top;\n",
       "    }\n",
       "\n",
       "    .dataframe thead th {\n",
       "        text-align: right;\n",
       "    }\n",
       "</style>\n",
       "<table border=\"1\" class=\"dataframe\">\n",
       "  <thead>\n",
       "    <tr style=\"text-align: right;\">\n",
       "      <th></th>\n",
       "      <th>Latitude</th>\n",
       "      <th>Longitude</th>\n",
       "    </tr>\n",
       "  </thead>\n",
       "  <tbody>\n",
       "    <tr>\n",
       "      <th>0</th>\n",
       "      <td>32.806671</td>\n",
       "      <td>-86.791130</td>\n",
       "    </tr>\n",
       "    <tr>\n",
       "      <th>1</th>\n",
       "      <td>61.370716</td>\n",
       "      <td>-152.404419</td>\n",
       "    </tr>\n",
       "    <tr>\n",
       "      <th>2</th>\n",
       "      <td>33.729759</td>\n",
       "      <td>-111.431221</td>\n",
       "    </tr>\n",
       "    <tr>\n",
       "      <th>3</th>\n",
       "      <td>34.969704</td>\n",
       "      <td>-92.373123</td>\n",
       "    </tr>\n",
       "    <tr>\n",
       "      <th>4</th>\n",
       "      <td>36.116203</td>\n",
       "      <td>-119.681564</td>\n",
       "    </tr>\n",
       "  </tbody>\n",
       "</table>\n",
       "</div>"
      ],
      "text/plain": [
       "    Latitude   Longitude\n",
       "0  32.806671  -86.791130\n",
       "1  61.370716 -152.404419\n",
       "2  33.729759 -111.431221\n",
       "3  34.969704  -92.373123\n",
       "4  36.116203 -119.681564"
      ]
     },
     "execution_count": 24,
     "metadata": {},
     "output_type": "execute_result"
    }
   ],
   "source": [
    "statecrds = stateasthma_df[[\"Latitude\", \"Longitude\"]]\n",
    "statecrds.head()"
   ]
  },
  {
   "cell_type": "code",
   "execution_count": 25,
   "metadata": {},
   "outputs": [],
   "source": [
    "asthmaprev = stateasthma_df[\"Percent with Current Asthma\"].astype(float)\n",
    "# asthmaprev"
   ]
  },
  {
   "cell_type": "code",
   "execution_count": 26,
   "metadata": {},
   "outputs": [],
   "source": [
    "# Plot Heatmap\n",
    "asthmafig = gmaps.figure()\n",
    "\n",
    "# Create heat layer\n",
    "heat_layer = gmaps.heatmap_layer(statecrds, weights=asthmaprev,dissipating=False, max_intensity=10, point_radius=1)\n",
    "\n",
    "\n",
    "# Add layer\n",
    "asthmafig.add_layer(heat_layer)"
   ]
  },
  {
   "cell_type": "code",
   "execution_count": 27,
   "metadata": {},
   "outputs": [
    {
     "data": {
      "application/vnd.jupyter.widget-view+json": {
       "model_id": "450bace6f2e64eb5a037dab8e1f2861a",
       "version_major": 2,
       "version_minor": 0
      },
      "text/plain": [
       "Figure(layout=FigureLayout(height='420px'))"
      ]
     },
     "metadata": {},
     "output_type": "display_data"
    }
   ],
   "source": [
    "asthmafig"
   ]
  },
  {
   "cell_type": "code",
   "execution_count": 28,
   "metadata": {},
   "outputs": [],
   "source": [
    "# # THIS PART ISN'T WORKING \n",
    "\n",
    "# zipcode_df = pd.DataFrame(pd.read_csv(\"./zipcodes.csv\"))\n",
    "# zipcode_df = zipcode_df.dropna()\n",
    "# zipcode_df.sort_values(\"county\")\n",
    "# gazipcode_df = zipcode_df[zipcode_df[\"state\"] == \"GA\"]\n",
    "# gazipcode_df.head()\n",
    "# # gazipcode_df.keys()\n",
    "\n",
    "# countyaqi2017 = pd.DataFrame(mergeddf[\"90th Percentile AQI (2017)\"])\n",
    "# countyaqi2017 = countyaqi2017.dropna()\n",
    "# countyaqi2017.reset_index()\n",
    "# # countyaqi2017.rename(columns = {\"index\" : \"County\"})\n",
    "\n",
    "# # airbyloc = pd.merge(gazipcode_df, countyaqi2017, how=\"inner\", on=[\"county\",\"index\"])"
   ]
  },
  {
   "cell_type": "code",
   "execution_count": 71,
   "metadata": {},
   "outputs": [
    {
     "data": {
      "text/html": [
       "<div>\n",
       "<style scoped>\n",
       "    .dataframe tbody tr th:only-of-type {\n",
       "        vertical-align: middle;\n",
       "    }\n",
       "\n",
       "    .dataframe tbody tr th {\n",
       "        vertical-align: top;\n",
       "    }\n",
       "\n",
       "    .dataframe thead th {\n",
       "        text-align: right;\n",
       "    }\n",
       "</style>\n",
       "<table border=\"1\" class=\"dataframe\">\n",
       "  <thead>\n",
       "    <tr style=\"text-align: right;\">\n",
       "      <th></th>\n",
       "      <th>County</th>\n",
       "      <th>90th Percentile AQI (2017)</th>\n",
       "      <th>Lat</th>\n",
       "      <th>Lng</th>\n",
       "    </tr>\n",
       "  </thead>\n",
       "  <tbody>\n",
       "    <tr>\n",
       "      <th>0</th>\n",
       "      <td>Bibb</td>\n",
       "      <td>58</td>\n",
       "      <td>32.827949</td>\n",
       "      <td>-83.595066</td>\n",
       "    </tr>\n",
       "    <tr>\n",
       "      <th>1</th>\n",
       "      <td>Charlton</td>\n",
       "      <td>47</td>\n",
       "      <td>30.855314</td>\n",
       "      <td>-82.027252</td>\n",
       "    </tr>\n",
       "    <tr>\n",
       "      <th>2</th>\n",
       "      <td>Chatham</td>\n",
       "      <td>57</td>\n",
       "      <td>32.001601</td>\n",
       "      <td>-81.0831676</td>\n",
       "    </tr>\n",
       "    <tr>\n",
       "      <th>3</th>\n",
       "      <td>Chattooga</td>\n",
       "      <td>45</td>\n",
       "      <td>34.392073</td>\n",
       "      <td>-85.417428</td>\n",
       "    </tr>\n",
       "    <tr>\n",
       "      <th>4</th>\n",
       "      <td>Clarke</td>\n",
       "      <td>53</td>\n",
       "      <td>33.950115</td>\n",
       "      <td>-83.3832137</td>\n",
       "    </tr>\n",
       "  </tbody>\n",
       "</table>\n",
       "</div>"
      ],
      "text/plain": [
       "      County  90th Percentile AQI (2017)        Lat          Lng\n",
       "0       Bibb                          58  32.827949   -83.595066\n",
       "1   Charlton                          47  30.855314   -82.027252\n",
       "2    Chatham                          57  32.001601  -81.0831676\n",
       "3  Chattooga                          45  34.392073   -85.417428\n",
       "4     Clarke                          53  33.950115  -83.3832137"
      ]
     },
     "execution_count": 71,
     "metadata": {},
     "output_type": "execute_result"
    }
   ],
   "source": [
    "airbyloc = pd.read_csv(\"../Datasets/airbyloc.csv\")\n",
    "airbyloc.head()"
   ]
  },
  {
   "cell_type": "code",
   "execution_count": 72,
   "metadata": {},
   "outputs": [
    {
     "data": {
      "text/html": [
       "<div>\n",
       "<style scoped>\n",
       "    .dataframe tbody tr th:only-of-type {\n",
       "        vertical-align: middle;\n",
       "    }\n",
       "\n",
       "    .dataframe tbody tr th {\n",
       "        vertical-align: top;\n",
       "    }\n",
       "\n",
       "    .dataframe thead th {\n",
       "        text-align: right;\n",
       "    }\n",
       "</style>\n",
       "<table border=\"1\" class=\"dataframe\">\n",
       "  <thead>\n",
       "    <tr style=\"text-align: right;\">\n",
       "      <th></th>\n",
       "      <th>Lat</th>\n",
       "      <th>Lng</th>\n",
       "    </tr>\n",
       "  </thead>\n",
       "  <tbody>\n",
       "    <tr>\n",
       "      <th>0</th>\n",
       "      <td>32.827949</td>\n",
       "      <td>-83.595066</td>\n",
       "    </tr>\n",
       "    <tr>\n",
       "      <th>1</th>\n",
       "      <td>30.855314</td>\n",
       "      <td>-82.027252</td>\n",
       "    </tr>\n",
       "    <tr>\n",
       "      <th>2</th>\n",
       "      <td>32.001601</td>\n",
       "      <td>-81.083168</td>\n",
       "    </tr>\n",
       "    <tr>\n",
       "      <th>3</th>\n",
       "      <td>34.392073</td>\n",
       "      <td>-85.417428</td>\n",
       "    </tr>\n",
       "    <tr>\n",
       "      <th>4</th>\n",
       "      <td>33.950115</td>\n",
       "      <td>-83.383214</td>\n",
       "    </tr>\n",
       "  </tbody>\n",
       "</table>\n",
       "</div>"
      ],
      "text/plain": [
       "         Lat        Lng\n",
       "0  32.827949 -83.595066\n",
       "1  30.855314 -82.027252\n",
       "2  32.001601 -81.083168\n",
       "3  34.392073 -85.417428\n",
       "4  33.950115 -83.383214"
      ]
     },
     "execution_count": 72,
     "metadata": {},
     "output_type": "execute_result"
    }
   ],
   "source": [
    "aqi2017 = airbyloc[\"90th Percentile AQI (2017)\"].astype(float)\n",
    "\n",
    "countycrds = airbyloc[[\"Lat\", \"Lng\"]].astype(float)\n",
    "countycrds.head()\n"
   ]
  },
  {
   "cell_type": "code",
   "execution_count": 33,
   "metadata": {},
   "outputs": [],
   "source": [
    "# Plot Heatmap\n",
    "airfig = gmaps.figure()\n",
    "\n",
    "# Create heat layer\n",
    "air_heat_layer = gmaps.heatmap_layer(countycrds, weights=(aqi2017 / 100),dissipating=False, max_intensity=10, point_radius=1)\n",
    "\n",
    "\n",
    "# Add layer\n",
    "airfig.add_layer(air_heat_layer)"
   ]
  },
  {
   "cell_type": "code",
   "execution_count": 34,
   "metadata": {},
   "outputs": [
    {
     "data": {
      "application/vnd.jupyter.widget-view+json": {
       "model_id": "1c6c7819016b469d89b12e6cdcbb56f8",
       "version_major": 2,
       "version_minor": 0
      },
      "text/plain": [
       "Figure(layout=FigureLayout(height='420px'))"
      ]
     },
     "metadata": {},
     "output_type": "display_data"
    }
   ],
   "source": [
    "airfig"
   ]
  },
  {
   "cell_type": "markdown",
   "metadata": {},
   "source": [
    "## Exploring Rural vs Urban Counties"
   ]
  },
  {
   "cell_type": "code",
   "execution_count": 78,
   "metadata": {},
   "outputs": [],
   "source": [
    "#Adding new columns containing the prevalence per county per year for urban vs rural\n",
    "rural_asthma_csvlocation = '../Datasets/rural_asthmaER.csv'\n",
    "urban_asthma_csvlocation = '../Datasets/urban_asthmaER.csv'\n",
    "rural_asthmadf = pd.read_csv(rural_asthma_csvlocation)\n",
    "urban_asthmadf = pd.read_csv(urban_asthma_csvlocation)\n",
    "\n",
    "for year in np.arange(2010,2018):\n",
    "    #rural_asthmadf[f'{year}'] = rural_asthmadf[f'{year}'].str.replace(\",\",\"\").astype(float)\n",
    "    urban_asthmadf[f'{year}'] = urban_asthmadf[f'{year}'].str.replace(\",\",\"\").astype(float)\n",
    "    rural_asthmadf[f'{year} pcnt'] = [rural_asthmadf.loc[county][f'{year}']/float(popdf.loc[f'{county} County, Georgia'][f'respop7{year}']) for county in rural_asthmadf.index]\n",
    "    urban_asthmadf[f'{year} pcnt'] = [urban_asthmadf.loc[county][f'{year}']/float(popdf.loc[f'{county} County, Georgia'][f'respop7{year}']) for county in urban_asthmadf.index]"
   ]
  },
  {
   "cell_type": "code",
   "execution_count": null,
   "metadata": {},
   "outputs": [],
   "source": [
    "stats.ttest_ind(rural_asthmadf['2010 pcnt'],urban_asthmadf['2010 pcnt'],equal_var=False)"
   ]
  },
  {
   "cell_type": "code",
   "execution_count": null,
   "metadata": {},
   "outputs": [],
   "source": [
    "rural_asthmadf['2010 pcnt'].mean(),rural_asthmadf['2010 pcnt'].sem(),urban_asthmadf['2010 pcnt'].mean(),urban_asthmadf['2010 pcnt'].sem()"
   ]
  },
  {
   "cell_type": "code",
   "execution_count": null,
   "metadata": {},
   "outputs": [],
   "source": [
    "#Is the ER Prevalence for asthma significantly different between rural and urban counties?\n",
    "\n",
    "pvals = []\n",
    "for year in np.arange(2010,2018):\n",
    "    s,p = stats.ttest_ind(rural_asthmadf[f'{year} pcnt'],urban_asthmadf[f'{year} pcnt'],equal_var=False)\n",
    "    pvals.append(p)\n",
    "pvals\n",
    "#Not really, no.  2013 they appeared like they might be, but not different enough to reject the null hypothesis"
   ]
  },
  {
   "cell_type": "code",
   "execution_count": null,
   "metadata": {},
   "outputs": [],
   "source": [
    "ruralcountylist = []\n",
    "urbancountylist = []\n",
    "for county in countylist:\n",
    "    if county in urban_asthmadf.index:\n",
    "        urbancountylist.append(county)\n",
    "    elif county in rural_asthmadf.index:\n",
    "        ruralcountylist.append(county)"
   ]
  },
  {
   "cell_type": "code",
   "execution_count": null,
   "metadata": {},
   "outputs": [],
   "source": [
    "mergeddf.loc[ruralcountylist]"
   ]
  },
  {
   "cell_type": "code",
   "execution_count": null,
   "metadata": {},
   "outputs": [],
   "source": [
    "p\n",
    "f'{p:1.6f}'"
   ]
  },
  {
   "cell_type": "code",
   "execution_count": null,
   "metadata": {},
   "outputs": [],
   "source": [
    "for i in np.arange(1,9):\n",
    "    plt.figure()\n",
    "    plt.scatter(mergeddf[f'Good Days ({2009+i})'].loc[urbancountylist]/mergeddf.loc[urbancountylist][f'Total Days ({2009+i})'],mergeddf.loc[urbancountylist][f'{2009+i} pcnt']*100000, c='r')\n",
    "    plt.scatter(mergeddf[f'Good Days ({2009+i})'].loc[ruralcountylist]/mergeddf.loc[ruralcountylist][f'Total Days ({2009+i})'],mergeddf.loc[ruralcountylist][f'{2009+i} pcnt']*100000, c='b')\n",
    "    plt.title(f'{2009+i} Asthma ER visits vs Air Quality')\n",
    "    m,b,r,p,_ = stats.linregress(mergeddf[f'Good Days ({2009+i})'].loc[np.isnan(mergeddf[f'Good Days ({2009+i})']) == False] /mergeddf[f'Total Days ({2009+i})'].loc[np.isnan(mergeddf[f'Good Days ({2009+i})']) == False],mergeddf[f'{2009+i} pcnt'].loc[np.isnan(mergeddf[f'Good Days ({2009+i})']) == False]*100000)\n",
    "    xmin, xmax = min(mergeddf[f'Good Days ({2009+i})']/mergeddf[f'Total Days ({2009+i})']), max(mergeddf[f'Good Days ({2009+i})']/mergeddf[f'Total Days ({2009+i})'])\n",
    "    plt.plot([xmin,xmax],[xmin*m + b, xmax*m+b])\n",
    "    plt.legend([f'Best fit\\np={p:1.6f}\\nr={r:1.6f}\\nslope={m:.2f}','Urban','Rural'])\n",
    "    plt.xlabel('Ratio of days with \"good\" air quality')\n",
    "    plt.ylabel(r'$\\dfrac{ER Visits\\times 100000}{Population}$')\n",
    "    plt.savefig(f'../Images/gooddays_vs_ervisits_{2009+i}.png',bbox_inches='tight')\n",
    "    plt.show()"
   ]
  },
  {
   "cell_type": "code",
   "execution_count": null,
   "metadata": {},
   "outputs": [],
   "source": [
    "for i in np.arange(1,9):\n",
    "    plt.figure()\n",
    "    plt.scatter(mergeddf[f'Days PM2.5 ({2009+i})'].loc[urbancountylist]/mergeddf.loc[urbancountylist][f'Total Days ({2009+i})'],mergeddf.loc[urbancountylist][f'{2009+i} pcnt']*100000, c='r')\n",
    "    plt.scatter(mergeddf[f'Days PM2.5 ({2009+i})'].loc[ruralcountylist]/mergeddf.loc[ruralcountylist][f'Total Days ({2009+i})'],mergeddf.loc[ruralcountylist][f'{2009+i} pcnt']*100000, c='b')\n",
    "    plt.title(f'{2009+i} Asthma ER visits vs Days With High PM2.5')\n",
    "    m,b,r,p,_ = stats.linregress(mergeddf[f'Days PM2.5 ({2009+i})'].loc[np.isnan(mergeddf[f'Days PM2.5 ({2009+i})']) == False] /mergeddf[f'Total Days ({2009+i})'].loc[np.isnan(mergeddf[f'Days PM2.5 ({2009+i})']) == False],mergeddf[f'{2009+i} pcnt'].loc[np.isnan(mergeddf[f'Days PM2.5 ({2009+i})']) == False]*100000)\n",
    "    xmin, xmax = min(mergeddf[f'Days PM2.5 ({2009+i})']/mergeddf[f'Total Days ({2009+i})']), max(mergeddf[f'Days PM2.5 ({2009+i})']/mergeddf[f'Total Days ({2009+i})'])\n",
    "    plt.plot([xmin,xmax],[xmin*m + b, xmax*m+b])\n",
    "    plt.legend([f'Best fit\\np={p:1.6f}\\nr={r:1.6f}\\nslope={m:.2f}','Urban','Rural'])\n",
    "    plt.xlabel('Ratio of days with high partical matter count')\n",
    "    plt.ylabel(r'$\\dfrac{ER Visits \\times 100000}{Population}$')\n",
    "    plt.savefig(f'../Images/dayspm25_vs_ervisits_{2009+i}.png',bbox_inches='tight')\n",
    "    plt.show()"
   ]
  },
  {
   "cell_type": "code",
   "execution_count": null,
   "metadata": {},
   "outputs": [],
   "source": [
    "for i in np.arange(1,9):\n",
    "    plt.figure()\n",
    "    plt.scatter(mergeddf[f'Days Ozone ({2009+i})'].loc[urbancountylist]/mergeddf.loc[urbancountylist][f'Total Days ({2009+i})'],mergeddf.loc[urbancountylist][f'{2009+i} pcnt']*100000, c='r')\n",
    "    plt.scatter(mergeddf[f'Days Ozone ({2009+i})'].loc[ruralcountylist]/mergeddf.loc[ruralcountylist][f'Total Days ({2009+i})'],mergeddf.loc[ruralcountylist][f'{2009+i} pcnt']*100000, c='b')\n",
    "    plt.title(f'{2009+i} Asthma ER visits vs Days With High Ozone')\n",
    "    m,b,r,p,_ = stats.linregress(mergeddf[f'Days Ozone ({2009+i})'].loc[np.isnan(mergeddf[f'Days Ozone ({2009+i})']) == False] /mergeddf[f'Total Days ({2009+i})'].loc[np.isnan(mergeddf[f'Days Ozone ({2009+i})']) == False],mergeddf[f'{2009+i} pcnt'].loc[np.isnan(mergeddf[f'Days Ozone ({2009+i})']) == False]*100000)\n",
    "    xmin, xmax = min(mergeddf[f'Days Ozone ({2009+i})']/mergeddf[f'Total Days ({2009+i})']), max(mergeddf[f'Days Ozone ({2009+i})']/mergeddf[f'Total Days ({2009+i})'])\n",
    "    plt.plot([xmin,xmax],[xmin*m + b, xmax*m+b])\n",
    "    plt.legend([f'Best fit\\np={p:1.6f}\\nr={r:1.6f}\\nslope={m:.2f}','Urban','Rural'])\n",
    "    plt.xlabel('Ratio of days with high ozone count')\n",
    "    plt.ylabel(r'$\\dfrac{ER Visits \\times 100000}{Population}$')\n",
    "    plt.savefig(f'../Images/ozone_vs_ervisits_{2009+i}.png',bbox_inches='tight')\n",
    "    plt.show()"
   ]
  },
  {
   "cell_type": "code",
   "execution_count": null,
   "metadata": {},
   "outputs": [],
   "source": [
    "for i in np.arange(1,9):\n",
    "    plt.figure()\n",
    "    plt.scatter(mergeddf[f'Days PM10 ({2009+i})'].loc[urbancountylist]/mergeddf.loc[urbancountylist][f'Total Days ({2009+i})'],mergeddf.loc[urbancountylist][f'{2009+i} pcnt']*100000, c='r')\n",
    "    plt.scatter(mergeddf[f'Days PM10 ({2009+i})'].loc[ruralcountylist]/mergeddf.loc[ruralcountylist][f'Total Days ({2009+i})'],mergeddf.loc[ruralcountylist][f'{2009+i} pcnt']*100000, c='b')\n",
    "    plt.title(f'{2009+i} Asthma ER visits vs Days With High PM10')\n",
    "    m,b,r,p,_ = stats.linregress(mergeddf[f'Days PM10 ({2009+i})'].loc[np.isnan(mergeddf[f'Days PM10 ({2009+i})']) == False] /mergeddf[f'Total Days ({2009+i})'].loc[np.isnan(mergeddf[f'Days PM10 ({2009+i})']) == False],mergeddf[f'{2009+i} pcnt'].loc[np.isnan(mergeddf[f'Days PM10 ({2009+i})']) == False]*100000)\n",
    "    xmin, xmax = min(mergeddf[f'Days PM10 ({2009+i})']/mergeddf[f'Total Days ({2009+i})']), max(mergeddf[f'Days PM10 ({2009+i})']/mergeddf[f'Total Days ({2009+i})'])\n",
    "    plt.plot([xmin,xmax],[xmin*m + b, xmax*m+b])\n",
    "    plt.legend([f'Best fit\\np={p:1.6f}\\nr={r:1.6f}\\nslope={m:.2f}','Urban','Rural'])\n",
    "    plt.xlabel('Ratio of days with high PM10 count')\n",
    "    plt.ylabel(r'$\\dfrac{ER Visits \\times 100000}{Population}$')\n",
    "    plt.savefig(f'../Images/dayspm10_vs_ervisits_{2009+i}.png',bbox_inches='tight')\n",
    "    plt.show()\n"
   ]
  },
  {
   "cell_type": "code",
   "execution_count": null,
   "metadata": {},
   "outputs": [],
   "source": [
    "#Is the air quality of rural counties really significantly different than that of urban counties?\n",
    "\n",
    "pvals = []\n",
    "for i in np.arange(2010,2018):\n",
    "    s,p = stats.ttest_ind(mergeddf.loc[ruralcountylist][f'Median AQI ({i})'].dropna(),mergeddf.loc[urbancountylist][f'Median AQI ({i})'].dropna())\n",
    "    pvals.append(p)\n",
    "pvals\n",
    "#Yes!"
   ]
  },
  {
   "cell_type": "code",
   "execution_count": null,
   "metadata": {},
   "outputs": [],
   "source": []
  }
 ],
 "metadata": {
  "kernelspec": {
   "display_name": "Python [conda env:Anaconda3]",
   "language": "python",
   "name": "conda-env-Anaconda3-py"
  },
  "language_info": {
   "codemirror_mode": {
    "name": "ipython",
    "version": 3
   },
   "file_extension": ".py",
   "mimetype": "text/x-python",
   "name": "python",
   "nbconvert_exporter": "python",
   "pygments_lexer": "ipython3",
   "version": "3.6.5"
  }
 },
 "nbformat": 4,
 "nbformat_minor": 2
}
