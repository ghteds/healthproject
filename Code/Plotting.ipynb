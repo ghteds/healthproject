{
 "cells": [
  {
   "cell_type": "code",
   "execution_count": null,
   "metadata": {},
   "outputs": [],
   "source": [
    "# INSERT THESE CELLS AFTER MERGED DATA FRAME HAS BEEN CREATED"
   ]
  },
  {
   "cell_type": "code",
   "execution_count": null,
   "metadata": {},
   "outputs": [],
   "source": [
    "xaxis2010 = mergeddf[\"Median AQI (2010)\"]\n",
    "yaxis2010 = mergeddf[\"2010 pcnt\"]\n",
    "\n",
    "xaxis2011 = mergeddf[\"Median AQI (2011)\"]\n",
    "yaxis2011 = mergeddf[\"2011 pcnt\"]\n",
    "\n",
    "xaxis2012 = mergeddf[\"Median AQI (2012)\"]\n",
    "yaxis2012 = mergeddf[\"2012 pcnt\"]\n",
    "\n",
    "xaxis2013 = mergeddf[\"Median AQI (2013)\"]\n",
    "yaxis2013 = mergeddf[\"2013 pcnt\"]\n",
    "\n",
    "xaxis2014 = mergeddf[\"Median AQI (2014)\"]\n",
    "yaxis2014 = mergeddf[\"2014 pcnt\"]\n",
    "\n",
    "xaxis2015 = mergeddf[\"Median AQI (2015)\"]\n",
    "yaxis2015 = mergeddf[\"2015 pcnt\"]\n",
    "\n",
    "xaxis2016 = mergeddf[\"Median AQI (2016)\"]\n",
    "yaxis2016 = mergeddf[\"2016 pcnt\"]\n",
    "\n",
    "xaxis2017 = mergeddf[\"Median AQI (2017)\"]\n",
    "yaxis2017 = mergeddf[\"2017 pcnt\"]"
   ]
  },
  {
   "cell_type": "code",
   "execution_count": null,
   "metadata": {},
   "outputs": [],
   "source": [
    "#2010\n",
    "plt.scatter(xaxis2010, yaxis2010, s = 50, marker=\"o\", facecolors=\"LightCoral\", edgecolors=\"black\", alpha = .75)\n",
    "plt.grid(b=True, which='major', axis='both')\n",
    "x_label = plt.xlabel(\"Median AQI\")\n",
    "y_label = plt.ylabel(\"Urgent Asthma Prevalence\")\n",
    "plt.title(\"Air Qualiy & Asthma Data\")"
   ]
  },
  {
   "cell_type": "code",
   "execution_count": null,
   "metadata": {},
   "outputs": [],
   "source": [
    "#2011\n",
    "plt.scatter(xaxis2011, yaxis2011, s = 50, marker=\"o\", facecolors=\"Orange\", edgecolors=\"black\", alpha = .75)\n",
    "plt.grid(b=True, which='major', axis='both')\n",
    "x_label = plt.xlabel(\"Median AQI\")\n",
    "y_label = plt.ylabel(\"Urgent Asthma Prevalence\")\n",
    "plt.title(\"Air Qualiy & Asthma Data\")"
   ]
  },
  {
   "cell_type": "code",
   "execution_count": null,
   "metadata": {},
   "outputs": [],
   "source": [
    "#2012\n",
    "plt.scatter(xaxis2012, yaxis2012, s = 50, marker=\"o\", facecolors=\"Yellow\", edgecolors=\"black\", alpha = .75)\n",
    "plt.grid(b=True, which='major', axis='both')\n",
    "x_label = plt.xlabel(\"Median AQI\")\n",
    "y_label = plt.ylabel(\"Urgent Asthma Prevalence\")\n",
    "plt.title(\"Air Qualiy & Asthma Data\")"
   ]
  },
  {
   "cell_type": "code",
   "execution_count": null,
   "metadata": {},
   "outputs": [],
   "source": [
    "#2013\n",
    "plt.scatter(xaxis2013, yaxis2013, s = 50, marker=\"o\", facecolors=\"LightGreen\", edgecolors=\"black\", alpha = .75)\n",
    "plt.grid(b=True, which='major', axis='both')\n",
    "x_label = plt.xlabel(\"Median AQI\")\n",
    "y_label = plt.ylabel(\"Urgent Asthma Prevalence\")\n",
    "plt.title(\"Air Qualiy & Asthma Data\")"
   ]
  },
  {
   "cell_type": "code",
   "execution_count": null,
   "metadata": {},
   "outputs": [],
   "source": [
    "#2014\n",
    "plt.scatter(xaxis2014, yaxis2014, s = 50, marker=\"o\", facecolors=\"SkyBlue\", edgecolors=\"black\", alpha = .75)\n",
    "plt.grid(b=True, which='major', axis='both')\n",
    "x_label = plt.xlabel(\"Median AQI\")\n",
    "y_label = plt.ylabel(\"Urgent Asthma Prevalence\")\n",
    "plt.title(\"Air Qualiy & Asthma Data\")"
   ]
  },
  {
   "cell_type": "code",
   "execution_count": null,
   "metadata": {},
   "outputs": [],
   "source": [
    "#2015\n",
    "plt.scatter(xaxis2015, yaxis2015, s = 50, marker=\"o\", facecolors=\"Purple\", edgecolors=\"black\", alpha = .75)\n",
    "plt.grid(b=True, which='major', axis='both')\n",
    "x_label = plt.xlabel(\"Median AQI\")\n",
    "y_label = plt.ylabel(\"Urgent Asthma Prevalence\")\n",
    "plt.title(\"Air Qualiy & Asthma Data\")"
   ]
  },
  {
   "cell_type": "code",
   "execution_count": null,
   "metadata": {},
   "outputs": [],
   "source": [
    "#2016\n",
    "plt.scatter(xaxis2016, yaxis2016, s = 50, marker=\"o\", facecolors=\"Gold\", edgecolors=\"black\", alpha = .75)\n",
    "plt.grid(b=True, which='major', axis='both')\n",
    "x_label = plt.xlabel(\"Median AQI\")\n",
    "y_label = plt.ylabel(\"Urgent Asthma Prevalence\")\n",
    "plt.title(\"Air Qualiy & Asthma Data\")"
   ]
  },
  {
   "cell_type": "code",
   "execution_count": null,
   "metadata": {},
   "outputs": [],
   "source": [
    "#2017\n",
    "plt.scatter(xaxis2017, yaxis2017, s = 50, marker=\"o\", facecolors=\"Teal\", edgecolors=\"black\", alpha = .75)\n",
    "plt.grid(b=True, which='major', axis='both')\n",
    "x_label = plt.xlabel(\"Median AQI\")\n",
    "y_label = plt.ylabel(\"Urgent Asthma Prevalence\")\n",
    "plt.title(\"Air Qualiy & Asthma Data\")"
   ]
  },
  {
   "cell_type": "markdown",
   "metadata": {},
   "source": [
    "# User Input"
   ]
  },
  {
   "cell_type": "code",
   "execution_count": 5,
   "metadata": {},
   "outputs": [],
   "source": [
    "researching = \"y\"\n",
    "while researching == \"y\":\n",
    "    user_county = input(\"Input the county name to display a summary. \")\n",
    "    countydata = pd.DataFrame(mergeddf.loc[user_county])\n",
    "    years = [\"2010\", \"2011\", \"2012\", \"2013\", \"2014\", \"2015\", \"2016\", \"2017\"]\n",
    "   \n",
    "    print(countydata.head())\n",
    "    \n",
    "    # Additional code to display various summaries/plots for the selected county\n",
    "   \n",
    "    researching = input(\"Search for another county? (y or n). \")"
   ]
  },
  {
   "cell_type": "code",
   "execution_count": null,
   "metadata": {},
   "outputs": [],
   "source": []
  }
 ],
 "metadata": {
  "kernelspec": {
   "display_name": "Python [conda env:PythonData]",
   "language": "python",
   "name": "conda-env-PythonData-py"
  },
  "language_info": {
   "codemirror_mode": {
    "name": "ipython",
    "version": 3
   },
   "file_extension": ".py",
   "mimetype": "text/x-python",
   "name": "python",
   "nbconvert_exporter": "python",
   "pygments_lexer": "ipython3",
   "version": "3.6.5"
  }
 },
 "nbformat": 4,
 "nbformat_minor": 2
}
